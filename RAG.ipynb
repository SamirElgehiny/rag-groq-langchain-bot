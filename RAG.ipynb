{
  "cells": [
    {
      "cell_type": "code",
      "execution_count": 1,
      "metadata": {
        "colab": {
          "base_uri": "https://localhost:8080/"
        },
        "id": "llQtDQFvCiWo",
        "outputId": "1a528b85-e8d9-4887-8ef9-f5d503e58791"
      },
      "outputs": [
        {
          "name": "stderr",
          "output_type": "stream",
          "text": [
            "WARNING:langchain_community.utils.user_agent:USER_AGENT environment variable not set, consider setting it to identify your requests.\n"
          ]
        }
      ],
      "source": [
        "from langchain_community.document_loaders import WebBaseLoader\n",
        "from langchain_core.vectorstores import InMemoryVectorStore\n",
        "from langchain_groq import ChatGroq\n",
        "from langchain_text_splitters import RecursiveCharacterTextSplitter"
      ]
    },
    {
      "cell_type": "code",
      "execution_count": 3,
      "metadata": {
        "id": "Ubv0OGo3GFA4"
      },
      "outputs": [],
      "source": [
        "from langchain_community.embeddings import HuggingFaceEmbeddings"
      ]
    },
    {
      "cell_type": "code",
      "execution_count": 2,
      "metadata": {
        "id": "CC3zTrk2Fjrc"
      },
      "outputs": [],
      "source": [
        "# List of URLs to load documents from\n",
        "urls = [\n",
        "    \"https://lilianweng.github.io/posts/2023-06-23-agent/\",\n",
        "    \"https://lilianweng.github.io/posts/2023-03-15-prompt-engineering/\",\n",
        "    \"https://lilianweng.github.io/posts/2023-10-25-adv-attack-llm/\",\n",
        "]"
      ]
    },
    {
      "cell_type": "code",
      "execution_count": 4,
      "metadata": {
        "colab": {
          "base_uri": "https://localhost:8080/"
        },
        "id": "ZgDeC93kFqO3",
        "outputId": "6ed9c89d-9f54-476c-e610-f83258f10940"
      },
      "outputs": [
        {
          "name": "stderr",
          "output_type": "stream",
          "text": [
            "<ipython-input-4-52c2a53b8ab6>:16: LangChainDeprecationWarning: The class `HuggingFaceEmbeddings` was deprecated in LangChain 0.2.2 and will be removed in 1.0. An updated version of the class exists in the :class:`~langchain-huggingface package and should be used instead. To use it run `pip install -U :class:`~langchain-huggingface` and import as `from :class:`~langchain_huggingface import HuggingFaceEmbeddings``.\n",
            "  embedding=HuggingFaceEmbeddings(model_name=\"all-MiniLM-L6-v2\"),\n",
            "/usr/local/lib/python3.11/dist-packages/huggingface_hub/utils/_auth.py:94: UserWarning: \n",
            "The secret `HF_TOKEN` does not exist in your Colab secrets.\n",
            "To authenticate with the Hugging Face Hub, create a token in your settings tab (https://huggingface.co/settings/tokens), set it as secret in your Google Colab and restart your session.\n",
            "You will be able to reuse this secret in all of your notebooks.\n",
            "Please note that authentication is recommended but still optional to access public models or datasets.\n",
            "  warnings.warn(\n"
          ]
        }
      ],
      "source": [
        "# Load documents from the URLs\n",
        "docs = [WebBaseLoader(url).load() for url in urls]\n",
        "docs_list = [item for sublist in docs for item in sublist]\n",
        "\n",
        "# Initialize a text splitter with specified chunk size and overlap\n",
        "text_splitter = RecursiveCharacterTextSplitter.from_tiktoken_encoder(\n",
        "    chunk_size=250, chunk_overlap=0\n",
        ")\n",
        "\n",
        "# Split the documents into chunks\n",
        "doc_splits = text_splitter.split_documents(docs_list)\n",
        "\n",
        "# Add the document chunks to the \"vector store\n",
        "vectorstore = InMemoryVectorStore.from_documents(\n",
        "    documents=doc_splits,\n",
        "    embedding=HuggingFaceEmbeddings(model_name=\"all-MiniLM-L6-v2\"),\n",
        ")\n",
        "\n",
        "# With langchain we can easily turn any vector store into a retrieval component:\n",
        "retriever = vectorstore.as_retriever(k=6)"
      ]
    },
    {
      "cell_type": "code",
      "execution_count": 8,
      "metadata": {
        "id": "3EvUFDymGXpd"
      },
      "outputs": [],
      "source": [
        "from langsmith import traceable\n",
        "import os"
      ]
    },
    {
      "cell_type": "code",
      "execution_count": 9,
      "metadata": {
        "id": "1FvPyP6NGwy-"
      },
      "outputs": [],
      "source": [
        "os.environ[\"GROQ_API_KEY\"] = \"\""
      ]
    },
    {
      "cell_type": "code",
      "execution_count": 10,
      "metadata": {
        "id": "eJrR2wKlGeru"
      },
      "outputs": [],
      "source": [
        "llm = ChatGroq(\n",
        "            model=\"llama3-70b-8192\",\n",
        "        )"
      ]
    },
    {
      "cell_type": "code",
      "execution_count": 13,
      "metadata": {
        "id": "cOEaJ5ZLGvRL"
      },
      "outputs": [],
      "source": [
        "# Add decorator so this function is traced in LangSmith\n",
        "@traceable()\n",
        "def rag_bot(question: str) -> dict:\n",
        "    # langchain Retriever will be automatically traced\n",
        "    docs = retriever.invoke(question)\n",
        "\n",
        "    docs_string = \"\".join(doc.page_content for doc in docs)\n",
        "    instructions = f\"\"\"You are a helpful assistant who is good at analyzing source information and answering questions.       Use the following source documents to answer the user's questions.       If you don't know the answer, just say that you don't know.       Use three sentences maximum and keep the answer concise.\n",
        "\n",
        "Documents:\n",
        "{docs_string}\"\"\"\n",
        "    # langchain ChatModel will be automatically traced\n",
        "    ai_msg = llm.invoke(\n",
        "        [\n",
        "            {\"role\": \"system\", \"content\": instructions},\n",
        "            {\"role\": \"user\", \"content\": question},\n",
        "        ],\n",
        "    )\n",
        "\n",
        "    return {\"answer\": ai_msg.content, \"documents\": docs}\n",
        "\n"
      ]
    },
    {
      "cell_type": "code",
      "execution_count": 27,
      "metadata": {
        "colab": {
          "base_uri": "https://localhost:8080/"
        },
        "id": "dbwezkXtHZJB",
        "outputId": "1e51b7b4-97aa-4a3f-e482-88964be58ea7"
      },
      "outputs": [
        {
          "data": {
            "text/plain": [
              "{'example_ids': ['dc3009f7-27a3-45f4-9d16-33986bbc4782',\n",
              "  '07c7ff20-9f7f-459d-bd9f-a581a537b0ea',\n",
              "  'd10ae79b-01e4-4b7a-859c-33e5453ec57e'],\n",
              " 'count': 3}"
            ]
          },
          "execution_count": 27,
          "metadata": {},
          "output_type": "execute_result"
        }
      ],
      "source": [
        "from langsmith import Client\n",
        "\n",
        "client = Client(api_key=\"\")\n",
        "\n",
        "# Define the examples for the dataset\n",
        "examples = [\n",
        "    {\n",
        "        \"inputs\": {\"question\": \"How does the ReAct agent use self-reflection? \"},\n",
        "        \"outputs\": {\"answer\": \"ReAct integrates reasoning and acting, performing actions - such tools like Wikipedia search API - and then observing / reasoning about the tool outputs.\"},\n",
        "    },\n",
        "    {\n",
        "        \"inputs\": {\"question\": \"What are the types of biases that can arise with few-shot prompting?\"},\n",
        "        \"outputs\": {\"answer\": \"The biases that can arise with few-shot prompting include (1) Majority label bias, (2) Recency bias, and (3) Common token bias.\"},\n",
        "    },\n",
        "    {\n",
        "        \"inputs\": {\"question\": \"What are five types of adversarial attacks?\"},\n",
        "        \"outputs\": {\"answer\": \"Five types of adversarial attacks are (1) Token manipulation, (2) Gradient based attack, (3) Jailbreak prompting, (4) Human red-teaming, (5) Model red-teaming.\"},\n",
        "    }\n",
        "]\n",
        "\n",
        "# Create the dataset and examples in LangSmith\n",
        "dataset_name = \"Lilian Weng Blogs Q&A\"\n",
        "dataset = client.create_dataset(dataset_name=dataset_name)\n",
        "client.create_examples(\n",
        "    dataset_id=dataset.id,\n",
        "    examples=examples\n",
        ")"
      ]
    },
    {
      "cell_type": "markdown",
      "metadata": {},
      "source": [
        "### Evaluation Metrics for RAG Systems\n",
        "\n",
        "#### 1. **Correctness: Response vs Reference Answer**\n",
        "- **Goal**: Measure *how similar/correct* the RAG chain answer is relative to a *ground-truth* answer.\n",
        "- **Mode**: Requires a **ground truth** (reference) answer provided via a dataset.\n",
        "- **Evaluator**: Use **LLM-as-judge** to assess answer correctness.\n",
        "\n",
        "#### 2. **Relevance: Response vs Input**\n",
        "- **Goal**: Measure *how well* the generated response addresses the initial *user input*.\n",
        "- **Mode**: Does **not** require a reference answer, as it compares the answer to the input question.\n",
        "- **Evaluator**: Use **LLM-as-judge** to assess answer relevance, helpfulness, etc.\n",
        "\n",
        "#### 3. **Groundedness: Response vs Retrieved Docs**\n",
        "- **Goal**: Measure *to what extent* the generated response agrees with the *retrieved context*.\n",
        "- **Mode**: Does **not** require a reference answer, as it compares the response to the retrieved context.\n",
        "- **Evaluator**: Use **LLM-as-judge** to assess faithfulness, hallucinations, etc.\n",
        "\n",
        "#### 4. **Retrieval Relevance: Retrieved Docs vs Input**\n",
        "- **Goal**: Measure *how relevant* the retrieved results are for a given query.\n",
        "- **Mode**: Does **not** require a reference answer, as it compares the question to the retrieved documents.\n",
        "- **Evaluator**: Use **LLM-as-judge** to assess document relevance.\n"
      ]
    },
    {
      "cell_type": "code",
      "execution_count": 17,
      "metadata": {
        "id": "v9jUG3VQHpMx"
      },
      "outputs": [],
      "source": [
        "from typing_extensions import Annotated, TypedDict\n",
        "\n",
        "# Grade output schema\n",
        "class CorrectnessGrade(TypedDict):\n",
        "    # Note that the order in the fields are defined is the order in which the model will generate them.\n",
        "    # It is useful to put explanations before responses because it forces the model to think through\n",
        "    # its final response before generating it:\n",
        "    explanation: Annotated[str, ..., \"Explain your reasoning for the score\"]\n",
        "    correct: Annotated[bool, ..., \"True if the answer is correct, False otherwise.\"]\n",
        "\n",
        "# Grade prompt\n",
        "correctness_instructions = \"\"\"You are a teacher grading a quiz.\n",
        "\n",
        "You will be given a QUESTION, the GROUND TRUTH (correct) ANSWER, and the STUDENT ANSWER.\n",
        "\n",
        "Here is the grade criteria to follow:\n",
        "(1) Grade the student answers based ONLY on their factual accuracy relative to the ground truth answer.\n",
        "(2) Ensure that the student answer does not contain any conflicting statements.\n",
        "(3) It is OK if the student answer contains more information than the ground truth answer, as long as it is factually accurate relative to the  ground truth answer.\n",
        "\n",
        "Correctness:\n",
        "A correctness value of True means that the student's answer meets all of the criteria.\n",
        "A correctness value of False means that the student's answer does not meet all of the criteria.\n",
        "\n",
        "Explain your reasoning in a step-by-step manner to ensure your reasoning and conclusion are correct.\n",
        "\n",
        "Avoid simply stating the correct answer at the outset.\"\"\"\n",
        "\n",
        "# Grader LLM\n",
        "grader_llm = ChatGroq(model=\"llama3-70b-8192\", temperature=0).with_structured_output(CorrectnessGrade, method=\"json_schema\", strict=True)\n",
        "\n",
        "def correctness(inputs: dict, outputs: dict, reference_outputs: dict) -> bool:\n",
        "    \"\"\"An evaluator for RAG answer accuracy\"\"\"\n",
        "    answers = f\"\"\"\\\n",
        "QUESTION: {inputs['question']}\n",
        "GROUND TRUTH ANSWER: {reference_outputs['answer']}\n",
        "STUDENT ANSWER: {outputs['answer']}\"\"\"\n",
        "\n",
        "    # Run evaluator\n",
        "    grade = grader_llm.invoke([\n",
        "        {\"role\": \"system\", \"content\": correctness_instructions},\n",
        "        {\"role\": \"user\", \"content\": answers}\n",
        "    ])\n",
        "    return grade[\"correct\"]"
      ]
    },
    {
      "cell_type": "code",
      "execution_count": 18,
      "metadata": {
        "id": "bC82GVpJI-8p"
      },
      "outputs": [],
      "source": [
        "# Grade output schema\n",
        "class RelevanceGrade(TypedDict):\n",
        "    explanation: Annotated[str, ..., \"Explain your reasoning for the score\"]\n",
        "    relevant: Annotated[bool, ..., \"Provide the score on whether the answer addresses the question\"]\n",
        "\n",
        "# Grade prompt\n",
        "relevance_instructions=\"\"\"You are a teacher grading a quiz.\n",
        "\n",
        "You will be given a QUESTION and a STUDENT ANSWER.\n",
        "\n",
        "Here is the grade criteria to follow:\n",
        "(1) Ensure the STUDENT ANSWER is concise and relevant to the QUESTION\n",
        "(2) Ensure the STUDENT ANSWER helps to answer the QUESTION\n",
        "\n",
        "Relevance:\n",
        "A relevance value of True means that the student's answer meets all of the criteria.\n",
        "A relevance value of False means that the student's answer does not meet all of the criteria.\n",
        "\n",
        "Explain your reasoning in a step-by-step manner to ensure your reasoning and conclusion are correct.\n",
        "\n",
        "Avoid simply stating the correct answer at the outset.\"\"\"\n",
        "\n",
        "# Grader LLM\n",
        "relevance_llm = ChatGroq(model=\"llama3-70b-8192\", temperature=0).with_structured_output(RelevanceGrade, method=\"json_schema\", strict=True)\n",
        "\n",
        "# Evaluator\n",
        "def relevance(inputs: dict, outputs: dict) -> bool:\n",
        "    \"\"\"A simple evaluator for RAG answer helpfulness.\"\"\"\n",
        "    answer = f\"QUESTION: {inputs['question']}\\nSTUDENT ANSWER: {outputs['answer']}\"\n",
        "    grade = relevance_llm.invoke([\n",
        "        {\"role\": \"system\", \"content\": relevance_instructions},\n",
        "        {\"role\": \"user\", \"content\": answer}\n",
        "    ])\n",
        "    return grade[\"relevant\"]"
      ]
    },
    {
      "cell_type": "code",
      "execution_count": 19,
      "metadata": {
        "id": "cBAYDnBlJIRA"
      },
      "outputs": [],
      "source": [
        "# Grade output schema\n",
        "class GroundedGrade(TypedDict):\n",
        "    explanation: Annotated[str, ..., \"Explain your reasoning for the score\"]\n",
        "    grounded: Annotated[bool, ..., \"Provide the score on if the answer hallucinates from the documents\"]\n",
        "\n",
        "# Grade prompt\n",
        "grounded_instructions = \"\"\"You are a teacher grading a quiz.\n",
        "\n",
        "You will be given FACTS and a STUDENT ANSWER.\n",
        "\n",
        "Here is the grade criteria to follow:\n",
        "(1) Ensure the STUDENT ANSWER is grounded in the FACTS.\n",
        "(2) Ensure the STUDENT ANSWER does not contain \"hallucinated\" information outside the scope of the FACTS.\n",
        "\n",
        "Grounded:\n",
        "A grounded value of True means that the student's answer meets all of the criteria.\n",
        "A grounded value of False means that the student's answer does not meet all of the criteria.\n",
        "\n",
        "Explain your reasoning in a step-by-step manner to ensure your reasoning and conclusion are correct.\n",
        "\n",
        "Avoid simply stating the correct answer at the outset.\"\"\"\n",
        "\n",
        "# Grader LLM\n",
        "grounded_llm = ChatGroq(model=\"llama3-70b-8192\", temperature=0).with_structured_output(GroundedGrade, method=\"json_schema\", strict=True)\n",
        "\n",
        "# Evaluator\n",
        "def groundedness(inputs: dict, outputs: dict) -> bool:\n",
        "    \"\"\"A simple evaluator for RAG answer groundedness.\"\"\"\n",
        "    doc_string = \"\\n\\n\".join(doc.page_content for doc in outputs[\"documents\"])\n",
        "    answer = f\"FACTS: {doc_string}\\nSTUDENT ANSWER: {outputs['answer']}\"\n",
        "    grade = grounded_llm.invoke([{\"role\": \"system\", \"content\": grounded_instructions}, {\"role\": \"user\", \"content\": answer}])\n",
        "    return grade[\"grounded\"]"
      ]
    },
    {
      "cell_type": "code",
      "execution_count": 20,
      "metadata": {
        "id": "Wu3DIoSJJQ_o"
      },
      "outputs": [],
      "source": [
        "# Grade output schema\n",
        "class RetrievalRelevanceGrade(TypedDict):\n",
        "    explanation: Annotated[str, ..., \"Explain your reasoning for the score\"]\n",
        "    relevant: Annotated[bool, ..., \"True if the retrieved documents are relevant to the question, False otherwise\"]\n",
        "\n",
        "# Grade prompt\n",
        "retrieval_relevance_instructions = \"\"\"You are a teacher grading a quiz.\n",
        "\n",
        "You will be given a QUESTION and a set of FACTS provided by the student.\n",
        "\n",
        "Here is the grade criteria to follow:\n",
        "(1) You goal is to identify FACTS that are completely unrelated to the QUESTION\n",
        "(2) If the facts contain ANY keywords or semantic meaning related to the question, consider them relevant\n",
        "(3) It is OK if the facts have SOME information that is unrelated to the question as long as (2) is met\n",
        "\n",
        "Relevance:\n",
        "A relevance value of True means that the FACTS contain ANY keywords or semantic meaning related to the QUESTION and are therefore relevant.\n",
        "A relevance value of False means that the FACTS are completely unrelated to the QUESTION.\n",
        "\n",
        "Explain your reasoning in a step-by-step manner to ensure your reasoning and conclusion are correct.\n",
        "\n",
        "Avoid simply stating the correct answer at the outset.\"\"\"\n",
        "\n",
        "# Grader LLM\n",
        "retrieval_relevance_llm = ChatGroq(model=\"llama3-70b-8192\", temperature=0).with_structured_output(RetrievalRelevanceGrade, method=\"json_schema\", strict=True)\n",
        "\n",
        "def retrieval_relevance(inputs: dict, outputs: dict) -> bool:\n",
        "    \"\"\"An evaluator for document relevance\"\"\"\n",
        "    doc_string = \"\\n\\n\".join(doc.page_content for doc in outputs[\"documents\"])\n",
        "    answer = f\"FACTS: {doc_string}\\nQUESTION: {inputs['question']}\"\n",
        "\n",
        "    # Run evaluator\n",
        "    grade = retrieval_relevance_llm.invoke([\n",
        "        {\"role\": \"system\", \"content\": retrieval_relevance_instructions},\n",
        "        {\"role\": \"user\", \"content\": answer}\n",
        "    ])\n",
        "    return grade[\"relevant\"]"
      ]
    },
    {
      "cell_type": "code",
      "execution_count": null,
      "metadata": {
        "colab": {
          "base_uri": "https://localhost:8080/",
          "height": 137,
          "referenced_widgets": [
            "822f518609ad4e3ab50030e1a41baa10",
            "0ed37342577b49d3a7b96b148c6eeb42",
            "48de7f0b35d14d7ebc98c00c0b0df5dc",
            "25a6e159ba1041c29b5ca6d0ca582d25",
            "de8a9080409d421ab98c7ada30610402",
            "7e9aecd1ea4842728ee8d6395f62886b",
            "7afea4fdc6224a1c828d26cd3efe98ba",
            "fef930f755bb405f878065885925d2da",
            "d45a52375ed5490fa059366830002387",
            "99e8ffebfb58419fb5f66dd49e105f09",
            "35889c344d0c42958ac55bf8e55df70e"
          ]
        },
        "id": "XBkU18n8JXeo",
        "outputId": "567fbc5d-8be6-4c9f-dfe3-43dc03f8c0bb"
      },
      "outputs": [],
      "source": [
        "def target(inputs: dict) -> dict:\n",
        "    return rag_bot(inputs[\"question\"])\n",
        "\n",
        "experiment_results = client.evaluate(\n",
        "    target,\n",
        "    data=dataset_name,\n",
        "    evaluators=[correctness, groundedness, relevance, retrieval_relevance],\n",
        "    experiment_prefix=\"rag-doc-relevance\",\n",
        "    metadata={\"version\": \"LCEL context, gpt-4-0125-preview\"},\n",
        ")"
      ]
    },
    {
      "cell_type": "code",
      "execution_count": null,
      "metadata": {
        "id": "bqkyrf8vKWt5"
      },
      "outputs": [],
      "source": []
    }
  ],
  "metadata": {
    "accelerator": "TPU",
    "colab": {
      "gpuType": "V28",
      "provenance": []
    },
    "kernelspec": {
      "display_name": "Python 3",
      "name": "python3"
    },
    "language_info": {
      "name": "python"
    },
    "widgets": {
      "application/vnd.jupyter.widget-state+json": {
        "0ed37342577b49d3a7b96b148c6eeb42": {
          "model_module": "@jupyter-widgets/controls",
          "model_module_version": "1.5.0",
          "model_name": "HTMLModel",
          "state": {
            "_dom_classes": [],
            "_model_module": "@jupyter-widgets/controls",
            "_model_module_version": "1.5.0",
            "_model_name": "HTMLModel",
            "_view_count": null,
            "_view_module": "@jupyter-widgets/controls",
            "_view_module_version": "1.5.0",
            "_view_name": "HTMLView",
            "description": "",
            "description_tooltip": null,
            "layout": "IPY_MODEL_7e9aecd1ea4842728ee8d6395f62886b",
            "placeholder": "​",
            "style": "IPY_MODEL_7afea4fdc6224a1c828d26cd3efe98ba",
            "value": ""
          }
        },
        "25a6e159ba1041c29b5ca6d0ca582d25": {
          "model_module": "@jupyter-widgets/controls",
          "model_module_version": "1.5.0",
          "model_name": "HTMLModel",
          "state": {
            "_dom_classes": [],
            "_model_module": "@jupyter-widgets/controls",
            "_model_module_version": "1.5.0",
            "_model_name": "HTMLModel",
            "_view_count": null,
            "_view_module": "@jupyter-widgets/controls",
            "_view_module_version": "1.5.0",
            "_view_name": "HTMLView",
            "description": "",
            "description_tooltip": null,
            "layout": "IPY_MODEL_99e8ffebfb58419fb5f66dd49e105f09",
            "placeholder": "​",
            "style": "IPY_MODEL_35889c344d0c42958ac55bf8e55df70e",
            "value": " 3/? [03:12&lt;00:00, 72.59s/it]"
          }
        },
        "35889c344d0c42958ac55bf8e55df70e": {
          "model_module": "@jupyter-widgets/controls",
          "model_module_version": "1.5.0",
          "model_name": "DescriptionStyleModel",
          "state": {
            "_model_module": "@jupyter-widgets/controls",
            "_model_module_version": "1.5.0",
            "_model_name": "DescriptionStyleModel",
            "_view_count": null,
            "_view_module": "@jupyter-widgets/base",
            "_view_module_version": "1.2.0",
            "_view_name": "StyleView",
            "description_width": ""
          }
        },
        "48de7f0b35d14d7ebc98c00c0b0df5dc": {
          "model_module": "@jupyter-widgets/controls",
          "model_module_version": "1.5.0",
          "model_name": "FloatProgressModel",
          "state": {
            "_dom_classes": [],
            "_model_module": "@jupyter-widgets/controls",
            "_model_module_version": "1.5.0",
            "_model_name": "FloatProgressModel",
            "_view_count": null,
            "_view_module": "@jupyter-widgets/controls",
            "_view_module_version": "1.5.0",
            "_view_name": "ProgressView",
            "bar_style": "success",
            "description": "",
            "description_tooltip": null,
            "layout": "IPY_MODEL_fef930f755bb405f878065885925d2da",
            "max": 1,
            "min": 0,
            "orientation": "horizontal",
            "style": "IPY_MODEL_d45a52375ed5490fa059366830002387",
            "value": 1
          }
        },
        "7afea4fdc6224a1c828d26cd3efe98ba": {
          "model_module": "@jupyter-widgets/controls",
          "model_module_version": "1.5.0",
          "model_name": "DescriptionStyleModel",
          "state": {
            "_model_module": "@jupyter-widgets/controls",
            "_model_module_version": "1.5.0",
            "_model_name": "DescriptionStyleModel",
            "_view_count": null,
            "_view_module": "@jupyter-widgets/base",
            "_view_module_version": "1.2.0",
            "_view_name": "StyleView",
            "description_width": ""
          }
        },
        "7e9aecd1ea4842728ee8d6395f62886b": {
          "model_module": "@jupyter-widgets/base",
          "model_module_version": "1.2.0",
          "model_name": "LayoutModel",
          "state": {
            "_model_module": "@jupyter-widgets/base",
            "_model_module_version": "1.2.0",
            "_model_name": "LayoutModel",
            "_view_count": null,
            "_view_module": "@jupyter-widgets/base",
            "_view_module_version": "1.2.0",
            "_view_name": "LayoutView",
            "align_content": null,
            "align_items": null,
            "align_self": null,
            "border": null,
            "bottom": null,
            "display": null,
            "flex": null,
            "flex_flow": null,
            "grid_area": null,
            "grid_auto_columns": null,
            "grid_auto_flow": null,
            "grid_auto_rows": null,
            "grid_column": null,
            "grid_gap": null,
            "grid_row": null,
            "grid_template_areas": null,
            "grid_template_columns": null,
            "grid_template_rows": null,
            "height": null,
            "justify_content": null,
            "justify_items": null,
            "left": null,
            "margin": null,
            "max_height": null,
            "max_width": null,
            "min_height": null,
            "min_width": null,
            "object_fit": null,
            "object_position": null,
            "order": null,
            "overflow": null,
            "overflow_x": null,
            "overflow_y": null,
            "padding": null,
            "right": null,
            "top": null,
            "visibility": null,
            "width": null
          }
        },
        "822f518609ad4e3ab50030e1a41baa10": {
          "model_module": "@jupyter-widgets/controls",
          "model_module_version": "1.5.0",
          "model_name": "HBoxModel",
          "state": {
            "_dom_classes": [],
            "_model_module": "@jupyter-widgets/controls",
            "_model_module_version": "1.5.0",
            "_model_name": "HBoxModel",
            "_view_count": null,
            "_view_module": "@jupyter-widgets/controls",
            "_view_module_version": "1.5.0",
            "_view_name": "HBoxView",
            "box_style": "",
            "children": [
              "IPY_MODEL_0ed37342577b49d3a7b96b148c6eeb42",
              "IPY_MODEL_48de7f0b35d14d7ebc98c00c0b0df5dc",
              "IPY_MODEL_25a6e159ba1041c29b5ca6d0ca582d25"
            ],
            "layout": "IPY_MODEL_de8a9080409d421ab98c7ada30610402"
          }
        },
        "99e8ffebfb58419fb5f66dd49e105f09": {
          "model_module": "@jupyter-widgets/base",
          "model_module_version": "1.2.0",
          "model_name": "LayoutModel",
          "state": {
            "_model_module": "@jupyter-widgets/base",
            "_model_module_version": "1.2.0",
            "_model_name": "LayoutModel",
            "_view_count": null,
            "_view_module": "@jupyter-widgets/base",
            "_view_module_version": "1.2.0",
            "_view_name": "LayoutView",
            "align_content": null,
            "align_items": null,
            "align_self": null,
            "border": null,
            "bottom": null,
            "display": null,
            "flex": null,
            "flex_flow": null,
            "grid_area": null,
            "grid_auto_columns": null,
            "grid_auto_flow": null,
            "grid_auto_rows": null,
            "grid_column": null,
            "grid_gap": null,
            "grid_row": null,
            "grid_template_areas": null,
            "grid_template_columns": null,
            "grid_template_rows": null,
            "height": null,
            "justify_content": null,
            "justify_items": null,
            "left": null,
            "margin": null,
            "max_height": null,
            "max_width": null,
            "min_height": null,
            "min_width": null,
            "object_fit": null,
            "object_position": null,
            "order": null,
            "overflow": null,
            "overflow_x": null,
            "overflow_y": null,
            "padding": null,
            "right": null,
            "top": null,
            "visibility": null,
            "width": null
          }
        },
        "d45a52375ed5490fa059366830002387": {
          "model_module": "@jupyter-widgets/controls",
          "model_module_version": "1.5.0",
          "model_name": "ProgressStyleModel",
          "state": {
            "_model_module": "@jupyter-widgets/controls",
            "_model_module_version": "1.5.0",
            "_model_name": "ProgressStyleModel",
            "_view_count": null,
            "_view_module": "@jupyter-widgets/base",
            "_view_module_version": "1.2.0",
            "_view_name": "StyleView",
            "bar_color": null,
            "description_width": ""
          }
        },
        "de8a9080409d421ab98c7ada30610402": {
          "model_module": "@jupyter-widgets/base",
          "model_module_version": "1.2.0",
          "model_name": "LayoutModel",
          "state": {
            "_model_module": "@jupyter-widgets/base",
            "_model_module_version": "1.2.0",
            "_model_name": "LayoutModel",
            "_view_count": null,
            "_view_module": "@jupyter-widgets/base",
            "_view_module_version": "1.2.0",
            "_view_name": "LayoutView",
            "align_content": null,
            "align_items": null,
            "align_self": null,
            "border": null,
            "bottom": null,
            "display": null,
            "flex": null,
            "flex_flow": null,
            "grid_area": null,
            "grid_auto_columns": null,
            "grid_auto_flow": null,
            "grid_auto_rows": null,
            "grid_column": null,
            "grid_gap": null,
            "grid_row": null,
            "grid_template_areas": null,
            "grid_template_columns": null,
            "grid_template_rows": null,
            "height": null,
            "justify_content": null,
            "justify_items": null,
            "left": null,
            "margin": null,
            "max_height": null,
            "max_width": null,
            "min_height": null,
            "min_width": null,
            "object_fit": null,
            "object_position": null,
            "order": null,
            "overflow": null,
            "overflow_x": null,
            "overflow_y": null,
            "padding": null,
            "right": null,
            "top": null,
            "visibility": null,
            "width": null
          }
        },
        "fef930f755bb405f878065885925d2da": {
          "model_module": "@jupyter-widgets/base",
          "model_module_version": "1.2.0",
          "model_name": "LayoutModel",
          "state": {
            "_model_module": "@jupyter-widgets/base",
            "_model_module_version": "1.2.0",
            "_model_name": "LayoutModel",
            "_view_count": null,
            "_view_module": "@jupyter-widgets/base",
            "_view_module_version": "1.2.0",
            "_view_name": "LayoutView",
            "align_content": null,
            "align_items": null,
            "align_self": null,
            "border": null,
            "bottom": null,
            "display": null,
            "flex": null,
            "flex_flow": null,
            "grid_area": null,
            "grid_auto_columns": null,
            "grid_auto_flow": null,
            "grid_auto_rows": null,
            "grid_column": null,
            "grid_gap": null,
            "grid_row": null,
            "grid_template_areas": null,
            "grid_template_columns": null,
            "grid_template_rows": null,
            "height": null,
            "justify_content": null,
            "justify_items": null,
            "left": null,
            "margin": null,
            "max_height": null,
            "max_width": null,
            "min_height": null,
            "min_width": null,
            "object_fit": null,
            "object_position": null,
            "order": null,
            "overflow": null,
            "overflow_x": null,
            "overflow_y": null,
            "padding": null,
            "right": null,
            "top": null,
            "visibility": null,
            "width": "20px"
          }
        }
      }
    }
  },
  "nbformat": 4,
  "nbformat_minor": 0
}
